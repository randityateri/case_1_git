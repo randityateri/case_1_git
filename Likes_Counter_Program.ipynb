{
  "cells": [
    {
      "cell_type": "code",
      "execution_count": null,
      "metadata": {
        "id": "bjYf-b-ZklIv"
      },
      "outputs": [],
      "source": [
        "blog_posts = [{'Photos': 3, 'Likes': 21, 'Comments': 2}, \n",
        "              {'Likes': 13, 'Comments': 2, 'Shares': 1}, \n",
        "              {'Photos': 5, 'Likes': 33, 'Comments': 8, 'Shares': 3}, \n",
        "              {'Comments': 4, 'Shares': 2}, \n",
        "              {'Photos': 8, 'Comments': 1, 'Shares': 1}, \n",
        "              {'Photos': 3, 'Likes': 19, 'Comments': 3}]"
      ]
    },
    {
      "cell_type": "code",
      "execution_count": null,
      "metadata": {},
      "outputs": [],
      "source": [
        "total_likes = 0\n",
        "try:\n",
        "    for post in blog_posts:\n",
        "        if \"Likes\" not in post.keys():\n",
        "            post[\"Likes\"] = 0\n",
        "        total_likes = total_likes + post[\"Likes\"]\n",
        "except:\n",
        "    pass\n",
        "\n",
        "print(total_likes)\n",
        "print(f\"Jumlah like = {total_likes}\")"
      ]
    }
  ],
  "metadata": {
    "colab": {
      "provenance": []
    },
    "kernelspec": {
      "display_name": "Python 3",
      "language": "python",
      "name": "python3"
    },
    "language_info": {
      "codemirror_mode": {
        "name": "ipython",
        "version": 3
      },
      "file_extension": ".py",
      "mimetype": "text/x-python",
      "name": "python",
      "nbconvert_exporter": "python",
      "pygments_lexer": "ipython3",
      "version": "3.10.7 (tags/v3.10.7:6cc6b13, Sep  5 2022, 14:08:36) [MSC v.1933 64 bit (AMD64)]"
    },
    "vscode": {
      "interpreter": {
        "hash": "f4280039fa42d8b5263a53bd323e94e77a4d83029a5ddcef6aaf351eea8b7a5a"
      }
    }
  },
  "nbformat": 4,
  "nbformat_minor": 0
}
